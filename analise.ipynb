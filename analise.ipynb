{
 "cells": [
  {
   "cell_type": "markdown",
   "metadata": {},
   "source": [
    "### Análise Sobre os fatores da Obesidade em uma Amostra da População"
   ]
  },
  {
   "cell_type": "markdown",
   "metadata": {},
   "source": [
    "###"
   ]
  },
  {
   "cell_type": "markdown",
   "metadata": {},
   "source": [
    "Primeiro, é possivel perceber que os dados de idade não são números inteiros e, portanto, não é possível fazer um estimativa de valores analisando repetição por si só. Dessa forma, separarei eles em classes alterei os nomes das colunas para melhor entendimento"
   ]
  },
  {
   "cell_type": "code",
   "execution_count": 204,
   "metadata": {},
   "outputs": [],
   "source": [
    "import pandas as pd\n",
    "\n",
    "## Importando os Dados\n",
    "\n",
    "dados_principais = pd.read_csv('obesity.csv', sep = ',')\n",
    "\n",
    "## Separando as idades (Numeros com casas decimais) em classes\n",
    "\n",
    "def intervalos(x):\n",
    "    if(x>=14 and x<22):\n",
    "        return \"entre 14 e 22\"\n",
    "    elif(x>=22 and x<30):\n",
    "        return \"entre 22 e 30\"\n",
    "    if(x>=30 and x<38):\n",
    "        return \"entre 30 e 38\"\n",
    "    if(x>=38 and x<46):\n",
    "        return \"entre 38 e 46\"\n",
    "    if(x>=46 and x<54):\n",
    "        return \"entre 46 e 54\"\n",
    "    if(x>=54 and x<62):\n",
    "        return \"entre 54 e 62\"\n",
    "    \n",
    "dados_principais['Age'] = list(map(intervalos, dados_principais['Age']))\n",
    "\n",
    "## Renomeando colunas\n",
    "\n",
    "dados_principais.rename(columns={'Gender':'Sexo','Age':'Idade','family_history_with_overweight':'Historico_Familiar','NObeyesdad':'Obesidade'},inplace=True)\n",
    "\n"
   ]
  },
  {
   "cell_type": "markdown",
   "metadata": {},
   "source": [
    "#"
   ]
  },
  {
   "cell_type": "markdown",
   "metadata": {},
   "source": [
    "#### Avaliando apenas os obesos"
   ]
  },
  {
   "cell_type": "markdown",
   "metadata": {},
   "source": [
    "Tentando descobrir um correlação entre os fatores analisados, primeiro foi feita uma separação entre a parte obesa da amostra"
   ]
  },
  {
   "cell_type": "code",
   "execution_count": 205,
   "metadata": {},
   "outputs": [
    {
     "name": "stdout",
     "output_type": "stream",
     "text": [
      "Male      45.973783\n",
      "Female    46.116970\n",
      "Name: count, dtype: float64\n",
      "\n",
      "O sexo não se mostrou uma variável relevante para determinar os fatores da obesidade\n"
     ]
    }
   ],
   "source": [
    "Obesos = dados_principais.query('Obesidade == 1')\n",
    "\n",
    "porcentagem_obesos_por_sexo = (Obesos['Sexo'].value_counts()/dados_principais['Sexo'].value_counts())*100\n",
    "\n",
    "porcentagem_obesos_por_sexo.index = ['Male','Female']\n",
    "\n",
    "print(porcentagem_obesos_por_sexo, end = '\\n\\n')\n",
    "\n",
    "print(\"O sexo não se mostrou uma variável relevante para determinar os fatores da obesidade\")\n"
   ]
  },
  {
   "cell_type": "markdown",
   "metadata": {},
   "source": [
    "<small>Nessa primeira análise percebe-se que 45% dos homens são obesos e 46% das mulheres são obesas,  \n",
    "o que representa, ao menos nessa pesquisa, que o sexo não é um fator relacionado à obesidade,  \n",
    "já que os dois números são muito próximos.</small>"
   ]
  },
  {
   "cell_type": "markdown",
   "metadata": {},
   "source": [
    "#"
   ]
  },
  {
   "cell_type": "markdown",
   "metadata": {},
   "source": [
    "##### Analisando o histórico familiar"
   ]
  },
  {
   "cell_type": "code",
   "execution_count": 206,
   "metadata": {},
   "outputs": [
    {
     "name": "stdout",
     "output_type": "stream",
     "text": [
      "Esse dado mostra que, dos obesos, 99.17% tinham histórico familiar de obesidade na família\n"
     ]
    },
    {
     "data": {
      "text/plain": [
       "Obesos        99.176955\n",
       "Não obesos     0.823045\n",
       "Name: Histórico Familiar, dtype: float64"
      ]
     },
     "execution_count": 206,
     "metadata": {},
     "output_type": "execute_result"
    }
   ],
   "source": [
    "porcentagem_obesos_hf = (Obesos['Historico_Familiar'].value_counts()/Obesos.shape[0]) * 100\n",
    "\n",
    "porcentagem_obesos_hf.index = ['Obesos','Não obesos']\n",
    "\n",
    "porcentagem_obesos_hf.name = \"Histórico Familiar\"\n",
    "\n",
    "print(\"Esse dado mostra que, dos obesos, 99.17% tinham histórico familiar de obesidade na família\")\n",
    "\n",
    "porcentagem_obesos_hf   "
   ]
  },
  {
   "cell_type": "markdown",
   "metadata": {},
   "source": [
    "#"
   ]
  },
  {
   "cell_type": "markdown",
   "metadata": {},
   "source": [
    "#### Cosumo de comida com alta caloria"
   ]
  },
  {
   "cell_type": "code",
   "execution_count": 207,
   "metadata": {},
   "outputs": [
    {
     "data": {
      "text/plain": [
       "Consome        98.045267\n",
       "Não consome     1.954733\n",
       "Name: Consome comida de alta caloria, dtype: float64"
      ]
     },
     "execution_count": 207,
     "metadata": {},
     "output_type": "execute_result"
    }
   ],
   "source": [
    "porcentagem_obesos_cac = (Obesos['FAVC'].value_counts()/Obesos.shape[0])*100\n",
    "\n",
    "porcentagem_obesos_cac.name = \"Consome comida de alta caloria\"\n",
    "\n",
    "porcentagem_obesos_cac.index = [\"Consome\", \"Não consome\"]\n",
    "\n",
    "porcentagem_obesos_cac"
   ]
  },
  {
   "cell_type": "markdown",
   "metadata": {},
   "source": [
    "#"
   ]
  },
  {
   "cell_type": "markdown",
   "metadata": {},
   "source": [
    "#### Uso de Cigarro"
   ]
  },
  {
   "cell_type": "code",
   "execution_count": 208,
   "metadata": {},
   "outputs": [
    {
     "data": {
      "text/plain": [
       "Não Fuma    97.736626\n",
       "Fuma         2.263374\n",
       "Name: Fuma, dtype: float64"
      ]
     },
     "execution_count": 208,
     "metadata": {},
     "output_type": "execute_result"
    }
   ],
   "source": [
    "porcentagem_obesos_tabagistas = (Obesos['SMOKE'].value_counts()/Obesos.shape[0])*100\n",
    "\n",
    "porcentagem_obesos_tabagistas.name = \"Fuma\"\n",
    "\n",
    "porcentagem_obesos_tabagistas.index = [\"Não Fuma\", \"Fuma\"]\n",
    "\n",
    "porcentagem_obesos_tabagistas"
   ]
  },
  {
   "cell_type": "markdown",
   "metadata": {},
   "source": [
    "#"
   ]
  },
  {
   "cell_type": "markdown",
   "metadata": {},
   "source": [
    "#### Fazendo isso com todos os dados de uma vez"
   ]
  },
  {
   "cell_type": "markdown",
   "metadata": {},
   "source": [
    "#### Obesos"
   ]
  },
  {
   "cell_type": "code",
   "execution_count": 209,
   "metadata": {},
   "outputs": [
    {
     "name": "stdout",
     "output_type": "stream",
     "text": [
      "Sexo\n",
      "1    50.514403\n",
      "0    49.485597\n",
      "Name: OBESOS, dtype: float64\n",
      "\n",
      "Idade\n",
      "entre 22 e 30    51.543210\n",
      "entre 14 e 22    27.983539\n",
      "entre 30 e 38    13.683128\n",
      "entre 38 e 46     6.584362\n",
      "entre 46 e 54     0.205761\n",
      "Name: OBESOS, dtype: float64\n",
      "\n",
      "Historico_Familiar\n",
      "1    99.176955\n",
      "0     0.823045\n",
      "Name: OBESOS, dtype: float64\n",
      "\n",
      "FAVC\n",
      "1    98.045267\n",
      "0     1.954733\n",
      "Name: OBESOS, dtype: float64\n",
      "\n",
      "FCVC\n",
      "3.000000    38.683128\n",
      "2.000000    18.004115\n",
      "1.000000     0.411523\n",
      "2.758394     0.205761\n",
      "2.967300     0.205761\n",
      "              ...    \n",
      "2.490776     0.102881\n",
      "2.312825     0.102881\n",
      "2.348745     0.102881\n",
      "2.393837     0.102881\n",
      "2.680375     0.102881\n",
      "Name: OBESOS, Length: 416, dtype: float64\n",
      "\n",
      "NCP\n",
      "3.000000    69.753086\n",
      "1.000000     4.012346\n",
      "1.213431     0.102881\n",
      "2.986637     0.102881\n",
      "1.924168     0.102881\n",
      "              ...    \n",
      "1.000414     0.102881\n",
      "1.135278     0.102881\n",
      "2.463113     0.102881\n",
      "1.782109     0.102881\n",
      "1.089048     0.102881\n",
      "Name: OBESOS, Length: 257, dtype: float64\n",
      "\n",
      "CAEC\n",
      "1    98.148148\n",
      "2     0.823045\n",
      "3     0.823045\n",
      "0     0.205761\n",
      "Name: OBESOS, dtype: float64\n",
      "\n",
      "SMOKE\n",
      "0    97.736626\n",
      "1     2.263374\n",
      "Name: OBESOS, dtype: float64\n",
      "\n",
      "CH2O\n",
      "2.000000    7.818930\n",
      "1.000000    5.864198\n",
      "3.000000    5.452675\n",
      "2.184707    0.205761\n",
      "2.530035    0.205761\n",
      "              ...   \n",
      "1.430444    0.102881\n",
      "2.165048    0.102881\n",
      "2.117733    0.102881\n",
      "2.141271    0.102881\n",
      "2.863513    0.102881\n",
      "Name: OBESOS, Length: 787, dtype: float64\n",
      "\n",
      "SCC\n",
      "0    99.691358\n",
      "1     0.308642\n",
      "Name: OBESOS, dtype: float64\n",
      "\n",
      "FAF\n",
      "0.000000    20.164609\n",
      "1.000000     4.218107\n",
      "2.000000     1.851852\n",
      "3.000000     1.337449\n",
      "1.399183     0.205761\n",
      "              ...    \n",
      "1.066169     0.102881\n",
      "0.368026     0.102881\n",
      "0.592607     0.102881\n",
      "0.966617     0.102881\n",
      "1.026452     0.102881\n",
      "Name: OBESOS, Length: 701, dtype: float64\n",
      "\n",
      "TUE\n",
      "0.000000    20.987654\n",
      "1.000000     4.835391\n",
      "2.000000     2.777778\n",
      "0.002600     0.308642\n",
      "0.630866     0.308642\n",
      "              ...    \n",
      "0.340196     0.102881\n",
      "0.731257     0.102881\n",
      "0.687342     0.102881\n",
      "0.157007     0.102881\n",
      "0.714137     0.102881\n",
      "Name: OBESOS, Length: 690, dtype: float64\n",
      "\n",
      "CALC\n",
      "1    73.971193\n",
      "0    24.382716\n",
      "2     1.646091\n",
      "Name: OBESOS, dtype: float64\n",
      "\n",
      "Automobile\n",
      "0    78.806584\n",
      "1    21.193416\n",
      "Name: OBESOS, dtype: float64\n",
      "\n",
      "Bike\n",
      "0    99.897119\n",
      "1     0.102881\n",
      "Name: OBESOS, dtype: float64\n",
      "\n",
      "Motorbike\n",
      "0    99.691358\n",
      "1     0.308642\n",
      "Name: OBESOS, dtype: float64\n",
      "\n",
      "Public_Transportation\n",
      "1    78.08642\n",
      "0    21.91358\n",
      "Name: OBESOS, dtype: float64\n",
      "\n",
      "Walking\n",
      "0    99.691358\n",
      "1     0.308642\n",
      "Name: OBESOS, dtype: float64\n",
      "\n",
      "Obesidade\n",
      "1    100.0\n",
      "Name: OBESOS, dtype: float64\n",
      "\n"
     ]
    }
   ],
   "source": [
    "## Uma forma mais simples de comparar os resultados com o todo(Obesos)\n",
    "\n",
    "resultado1 = list()\n",
    "\n",
    "for x in Obesos.columns:\n",
    "    aplicar = Obesos[x].value_counts()\n",
    "    aplicar.name = 'OBESOS'\n",
    "    resultado1.append((aplicar/Obesos.shape[0])*100)\n",
    "\n",
    "for x in resultado1:\n",
    "    print(x, end = '\\n\\n')\n",
    "\n"
   ]
  },
  {
   "cell_type": "markdown",
   "metadata": {},
   "source": [
    "#### Não obesos"
   ]
  },
  {
   "cell_type": "code",
   "execution_count": 210,
   "metadata": {},
   "outputs": [
    {
     "name": "stdout",
     "output_type": "stream",
     "text": [
      "Sexo\n",
      "1    50.658472\n",
      "0    49.341528\n",
      "Name: Não Obesos, dtype: float64\n",
      "\n",
      "Idade\n",
      "entre 14 e 22    59.086918\n",
      "entre 22 e 30    26.426690\n",
      "entre 30 e 38    10.272169\n",
      "entre 38 e 46     3.248464\n",
      "entre 54 e 62     0.614574\n",
      "entre 46 e 54     0.351185\n",
      "Name: Não Obesos, dtype: float64\n",
      "\n",
      "Historico_Familiar\n",
      "1    66.90079\n",
      "0    33.09921\n",
      "Name: Não Obesos, dtype: float64\n",
      "\n",
      "FAVC\n",
      "1    80.158033\n",
      "0    19.841967\n",
      "Name: Não Obesos, dtype: float64\n",
      "\n",
      "FCVC\n",
      "2.000000    37.313433\n",
      "3.000000    24.231782\n",
      "1.000000     2.546093\n",
      "2.392665     0.175593\n",
      "2.714447     0.175593\n",
      "              ...    \n",
      "2.673638     0.087796\n",
      "1.118436     0.087796\n",
      "1.649974     0.087796\n",
      "1.036414     0.087796\n",
      "2.076689     0.087796\n",
      "Name: Não Obesos, Length: 406, dtype: float64\n",
      "\n",
      "NCP\n",
      "3.000000    46.093064\n",
      "1.000000    14.047410\n",
      "4.000000     5.970149\n",
      "1.737620     0.175593\n",
      "3.559841     0.175593\n",
      "              ...    \n",
      "3.985442     0.087796\n",
      "1.578521     0.087796\n",
      "3.131032     0.087796\n",
      "1.394539     0.087796\n",
      "1.313403     0.087796\n",
      "Name: Não Obesos, Length: 383, dtype: float64\n",
      "\n",
      "CAEC\n",
      "1    71.202809\n",
      "2    20.544337\n",
      "0     4.302019\n",
      "3     3.950834\n",
      "Name: Não Obesos, dtype: float64\n",
      "\n",
      "SMOKE\n",
      "0    98.068481\n",
      "1     1.931519\n",
      "Name: Não Obesos, dtype: float64\n",
      "\n",
      "CH2O\n",
      "2.000000    32.660228\n",
      "1.000000    13.520632\n",
      "3.000000     9.569798\n",
      "1.636326     0.175593\n",
      "2.137550     0.175593\n",
      "              ...    \n",
      "1.755497     0.087796\n",
      "1.546856     0.087796\n",
      "2.311791     0.087796\n",
      "2.582165     0.087796\n",
      "1.026729     0.087796\n",
      "Name: Não Obesos, Length: 500, dtype: float64\n",
      "\n",
      "SCC\n",
      "0    91.834943\n",
      "1     8.165057\n",
      "Name: Não Obesos, dtype: float64\n",
      "\n",
      "FAF\n",
      "0.000000    18.876207\n",
      "1.000000    16.944688\n",
      "2.000000    14.486392\n",
      "3.000000     5.443371\n",
      "1.228136     0.175593\n",
      "              ...    \n",
      "1.487987     0.087796\n",
      "0.023574     0.087796\n",
      "0.463949     0.087796\n",
      "1.230441     0.087796\n",
      "0.647798     0.087796\n",
      "Name: Não Obesos, Length: 499, dtype: float64\n",
      "\n",
      "TUE\n",
      "0.000000    30.992098\n",
      "1.000000    21.510097\n",
      "2.000000     7.199298\n",
      "0.469735     0.175593\n",
      "0.369134     0.175593\n",
      "              ...    \n",
      "1.415536     0.087796\n",
      "0.707044     0.087796\n",
      "0.142056     0.087796\n",
      "0.265790     0.087796\n",
      "0.023564     0.087796\n",
      "Name: Não Obesos, Length: 452, dtype: float64\n",
      "\n",
      "CALC\n",
      "1    59.877085\n",
      "0    35.294118\n",
      "2     4.741001\n",
      "3     0.087796\n",
      "Name: Não Obesos, dtype: float64\n",
      "\n",
      "Automobile\n",
      "0    77.963126\n",
      "1    22.036874\n",
      "Name: Não Obesos, dtype: float64\n",
      "\n",
      "Bike\n",
      "0    99.473222\n",
      "1     0.526778\n",
      "Name: Não Obesos, dtype: float64\n",
      "\n",
      "Motorbike\n",
      "0    99.297629\n",
      "1     0.702371\n",
      "Name: Não Obesos, dtype: float64\n",
      "\n",
      "Public_Transportation\n",
      "1    72.080773\n",
      "0    27.919227\n",
      "Name: Não Obesos, dtype: float64\n",
      "\n",
      "Walking\n",
      "0    95.346795\n",
      "1     4.653205\n",
      "Name: Não Obesos, dtype: float64\n",
      "\n",
      "Obesidade\n",
      "0    100.0\n",
      "Name: Não Obesos, dtype: float64\n",
      "\n"
     ]
    }
   ],
   "source": [
    "nao_obesos = dados_principais.query('Obesidade == 0')\n",
    "\n",
    "resultado2 = list()\n",
    "\n",
    "for x in nao_obesos.columns:\n",
    "    aplicar = nao_obesos[x].value_counts()\n",
    "    aplicar.name = 'Não Obesos'\n",
    "    resultado2.append((aplicar/nao_obesos.shape[0])*100)\n",
    "\n",
    "for x in resultado2:\n",
    "    print(x, end = '\\n\\n')"
   ]
  },
  {
   "cell_type": "markdown",
   "metadata": {},
   "source": [
    "#"
   ]
  },
  {
   "cell_type": "markdown",
   "metadata": {},
   "source": [
    "#### Juntando os dados em um Dataframe para melhor comparação"
   ]
  },
  {
   "cell_type": "code",
   "execution_count": 211,
   "metadata": {},
   "outputs": [
    {
     "data": {
      "text/html": [
       "<div>\n",
       "<style scoped>\n",
       "    .dataframe tbody tr th:only-of-type {\n",
       "        vertical-align: middle;\n",
       "    }\n",
       "\n",
       "    .dataframe tbody tr th {\n",
       "        vertical-align: top;\n",
       "    }\n",
       "\n",
       "    .dataframe thead th {\n",
       "        text-align: right;\n",
       "    }\n",
       "</style>\n",
       "<table border=\"1\" class=\"dataframe\">\n",
       "  <thead>\n",
       "    <tr style=\"text-align: right;\">\n",
       "      <th></th>\n",
       "      <th>OBESOS</th>\n",
       "      <th>Não Obesos</th>\n",
       "    </tr>\n",
       "    <tr>\n",
       "      <th>Sexo</th>\n",
       "      <th></th>\n",
       "      <th></th>\n",
       "    </tr>\n",
       "  </thead>\n",
       "  <tbody>\n",
       "    <tr>\n",
       "      <th>1</th>\n",
       "      <td>50.514403</td>\n",
       "      <td>50.658472</td>\n",
       "    </tr>\n",
       "    <tr>\n",
       "      <th>0</th>\n",
       "      <td>49.485597</td>\n",
       "      <td>49.341528</td>\n",
       "    </tr>\n",
       "  </tbody>\n",
       "</table>\n",
       "</div>"
      ],
      "text/plain": [
       "         OBESOS  Não Obesos\n",
       "Sexo                       \n",
       "1     50.514403   50.658472\n",
       "0     49.485597   49.341528"
      ]
     },
     "metadata": {},
     "output_type": "display_data"
    },
    {
     "data": {
      "text/html": [
       "<div>\n",
       "<style scoped>\n",
       "    .dataframe tbody tr th:only-of-type {\n",
       "        vertical-align: middle;\n",
       "    }\n",
       "\n",
       "    .dataframe tbody tr th {\n",
       "        vertical-align: top;\n",
       "    }\n",
       "\n",
       "    .dataframe thead th {\n",
       "        text-align: right;\n",
       "    }\n",
       "</style>\n",
       "<table border=\"1\" class=\"dataframe\">\n",
       "  <thead>\n",
       "    <tr style=\"text-align: right;\">\n",
       "      <th></th>\n",
       "      <th>OBESOS</th>\n",
       "      <th>Não Obesos</th>\n",
       "    </tr>\n",
       "    <tr>\n",
       "      <th>Idade</th>\n",
       "      <th></th>\n",
       "      <th></th>\n",
       "    </tr>\n",
       "  </thead>\n",
       "  <tbody>\n",
       "    <tr>\n",
       "      <th>entre 22 e 30</th>\n",
       "      <td>51.543210</td>\n",
       "      <td>26.426690</td>\n",
       "    </tr>\n",
       "    <tr>\n",
       "      <th>entre 14 e 22</th>\n",
       "      <td>27.983539</td>\n",
       "      <td>59.086918</td>\n",
       "    </tr>\n",
       "    <tr>\n",
       "      <th>entre 30 e 38</th>\n",
       "      <td>13.683128</td>\n",
       "      <td>10.272169</td>\n",
       "    </tr>\n",
       "    <tr>\n",
       "      <th>entre 38 e 46</th>\n",
       "      <td>6.584362</td>\n",
       "      <td>3.248464</td>\n",
       "    </tr>\n",
       "    <tr>\n",
       "      <th>entre 46 e 54</th>\n",
       "      <td>0.205761</td>\n",
       "      <td>0.351185</td>\n",
       "    </tr>\n",
       "  </tbody>\n",
       "</table>\n",
       "</div>"
      ],
      "text/plain": [
       "                  OBESOS  Não Obesos\n",
       "Idade                               \n",
       "entre 22 e 30  51.543210   26.426690\n",
       "entre 14 e 22  27.983539   59.086918\n",
       "entre 30 e 38  13.683128   10.272169\n",
       "entre 38 e 46   6.584362    3.248464\n",
       "entre 46 e 54   0.205761    0.351185"
      ]
     },
     "metadata": {},
     "output_type": "display_data"
    },
    {
     "data": {
      "text/html": [
       "<div>\n",
       "<style scoped>\n",
       "    .dataframe tbody tr th:only-of-type {\n",
       "        vertical-align: middle;\n",
       "    }\n",
       "\n",
       "    .dataframe tbody tr th {\n",
       "        vertical-align: top;\n",
       "    }\n",
       "\n",
       "    .dataframe thead th {\n",
       "        text-align: right;\n",
       "    }\n",
       "</style>\n",
       "<table border=\"1\" class=\"dataframe\">\n",
       "  <thead>\n",
       "    <tr style=\"text-align: right;\">\n",
       "      <th></th>\n",
       "      <th>OBESOS</th>\n",
       "      <th>Não Obesos</th>\n",
       "    </tr>\n",
       "    <tr>\n",
       "      <th>Historico_Familiar</th>\n",
       "      <th></th>\n",
       "      <th></th>\n",
       "    </tr>\n",
       "  </thead>\n",
       "  <tbody>\n",
       "    <tr>\n",
       "      <th>1</th>\n",
       "      <td>99.176955</td>\n",
       "      <td>66.90079</td>\n",
       "    </tr>\n",
       "    <tr>\n",
       "      <th>0</th>\n",
       "      <td>0.823045</td>\n",
       "      <td>33.09921</td>\n",
       "    </tr>\n",
       "  </tbody>\n",
       "</table>\n",
       "</div>"
      ],
      "text/plain": [
       "                       OBESOS  Não Obesos\n",
       "Historico_Familiar                       \n",
       "1                   99.176955    66.90079\n",
       "0                    0.823045    33.09921"
      ]
     },
     "metadata": {},
     "output_type": "display_data"
    },
    {
     "data": {
      "text/html": [
       "<div>\n",
       "<style scoped>\n",
       "    .dataframe tbody tr th:only-of-type {\n",
       "        vertical-align: middle;\n",
       "    }\n",
       "\n",
       "    .dataframe tbody tr th {\n",
       "        vertical-align: top;\n",
       "    }\n",
       "\n",
       "    .dataframe thead th {\n",
       "        text-align: right;\n",
       "    }\n",
       "</style>\n",
       "<table border=\"1\" class=\"dataframe\">\n",
       "  <thead>\n",
       "    <tr style=\"text-align: right;\">\n",
       "      <th></th>\n",
       "      <th>OBESOS</th>\n",
       "      <th>Não Obesos</th>\n",
       "    </tr>\n",
       "    <tr>\n",
       "      <th>FAVC</th>\n",
       "      <th></th>\n",
       "      <th></th>\n",
       "    </tr>\n",
       "  </thead>\n",
       "  <tbody>\n",
       "    <tr>\n",
       "      <th>1</th>\n",
       "      <td>98.045267</td>\n",
       "      <td>80.158033</td>\n",
       "    </tr>\n",
       "    <tr>\n",
       "      <th>0</th>\n",
       "      <td>1.954733</td>\n",
       "      <td>19.841967</td>\n",
       "    </tr>\n",
       "  </tbody>\n",
       "</table>\n",
       "</div>"
      ],
      "text/plain": [
       "         OBESOS  Não Obesos\n",
       "FAVC                       \n",
       "1     98.045267   80.158033\n",
       "0      1.954733   19.841967"
      ]
     },
     "metadata": {},
     "output_type": "display_data"
    },
    {
     "data": {
      "text/html": [
       "<div>\n",
       "<style scoped>\n",
       "    .dataframe tbody tr th:only-of-type {\n",
       "        vertical-align: middle;\n",
       "    }\n",
       "\n",
       "    .dataframe tbody tr th {\n",
       "        vertical-align: top;\n",
       "    }\n",
       "\n",
       "    .dataframe thead th {\n",
       "        text-align: right;\n",
       "    }\n",
       "</style>\n",
       "<table border=\"1\" class=\"dataframe\">\n",
       "  <thead>\n",
       "    <tr style=\"text-align: right;\">\n",
       "      <th></th>\n",
       "      <th>OBESOS</th>\n",
       "      <th>Não Obesos</th>\n",
       "    </tr>\n",
       "    <tr>\n",
       "      <th>FCVC</th>\n",
       "      <th></th>\n",
       "      <th></th>\n",
       "    </tr>\n",
       "  </thead>\n",
       "  <tbody>\n",
       "    <tr>\n",
       "      <th>3.000000</th>\n",
       "      <td>38.683128</td>\n",
       "      <td>24.231782</td>\n",
       "    </tr>\n",
       "    <tr>\n",
       "      <th>2.000000</th>\n",
       "      <td>18.004115</td>\n",
       "      <td>37.313433</td>\n",
       "    </tr>\n",
       "    <tr>\n",
       "      <th>1.000000</th>\n",
       "      <td>0.411523</td>\n",
       "      <td>2.546093</td>\n",
       "    </tr>\n",
       "    <tr>\n",
       "      <th>2.758394</th>\n",
       "      <td>0.205761</td>\n",
       "      <td>NaN</td>\n",
       "    </tr>\n",
       "    <tr>\n",
       "      <th>2.967300</th>\n",
       "      <td>0.205761</td>\n",
       "      <td>NaN</td>\n",
       "    </tr>\n",
       "  </tbody>\n",
       "</table>\n",
       "</div>"
      ],
      "text/plain": [
       "             OBESOS  Não Obesos\n",
       "FCVC                           \n",
       "3.000000  38.683128   24.231782\n",
       "2.000000  18.004115   37.313433\n",
       "1.000000   0.411523    2.546093\n",
       "2.758394   0.205761         NaN\n",
       "2.967300   0.205761         NaN"
      ]
     },
     "metadata": {},
     "output_type": "display_data"
    },
    {
     "data": {
      "text/html": [
       "<div>\n",
       "<style scoped>\n",
       "    .dataframe tbody tr th:only-of-type {\n",
       "        vertical-align: middle;\n",
       "    }\n",
       "\n",
       "    .dataframe tbody tr th {\n",
       "        vertical-align: top;\n",
       "    }\n",
       "\n",
       "    .dataframe thead th {\n",
       "        text-align: right;\n",
       "    }\n",
       "</style>\n",
       "<table border=\"1\" class=\"dataframe\">\n",
       "  <thead>\n",
       "    <tr style=\"text-align: right;\">\n",
       "      <th></th>\n",
       "      <th>OBESOS</th>\n",
       "      <th>Não Obesos</th>\n",
       "    </tr>\n",
       "    <tr>\n",
       "      <th>NCP</th>\n",
       "      <th></th>\n",
       "      <th></th>\n",
       "    </tr>\n",
       "  </thead>\n",
       "  <tbody>\n",
       "    <tr>\n",
       "      <th>3.000000</th>\n",
       "      <td>69.753086</td>\n",
       "      <td>46.093064</td>\n",
       "    </tr>\n",
       "    <tr>\n",
       "      <th>1.000000</th>\n",
       "      <td>4.012346</td>\n",
       "      <td>14.047410</td>\n",
       "    </tr>\n",
       "    <tr>\n",
       "      <th>1.213431</th>\n",
       "      <td>0.102881</td>\n",
       "      <td>NaN</td>\n",
       "    </tr>\n",
       "    <tr>\n",
       "      <th>2.986637</th>\n",
       "      <td>0.102881</td>\n",
       "      <td>NaN</td>\n",
       "    </tr>\n",
       "    <tr>\n",
       "      <th>1.924168</th>\n",
       "      <td>0.102881</td>\n",
       "      <td>NaN</td>\n",
       "    </tr>\n",
       "  </tbody>\n",
       "</table>\n",
       "</div>"
      ],
      "text/plain": [
       "             OBESOS  Não Obesos\n",
       "NCP                            \n",
       "3.000000  69.753086   46.093064\n",
       "1.000000   4.012346   14.047410\n",
       "1.213431   0.102881         NaN\n",
       "2.986637   0.102881         NaN\n",
       "1.924168   0.102881         NaN"
      ]
     },
     "metadata": {},
     "output_type": "display_data"
    },
    {
     "data": {
      "text/html": [
       "<div>\n",
       "<style scoped>\n",
       "    .dataframe tbody tr th:only-of-type {\n",
       "        vertical-align: middle;\n",
       "    }\n",
       "\n",
       "    .dataframe tbody tr th {\n",
       "        vertical-align: top;\n",
       "    }\n",
       "\n",
       "    .dataframe thead th {\n",
       "        text-align: right;\n",
       "    }\n",
       "</style>\n",
       "<table border=\"1\" class=\"dataframe\">\n",
       "  <thead>\n",
       "    <tr style=\"text-align: right;\">\n",
       "      <th></th>\n",
       "      <th>OBESOS</th>\n",
       "      <th>Não Obesos</th>\n",
       "    </tr>\n",
       "    <tr>\n",
       "      <th>CAEC</th>\n",
       "      <th></th>\n",
       "      <th></th>\n",
       "    </tr>\n",
       "  </thead>\n",
       "  <tbody>\n",
       "    <tr>\n",
       "      <th>1</th>\n",
       "      <td>98.148148</td>\n",
       "      <td>71.202809</td>\n",
       "    </tr>\n",
       "    <tr>\n",
       "      <th>2</th>\n",
       "      <td>0.823045</td>\n",
       "      <td>20.544337</td>\n",
       "    </tr>\n",
       "    <tr>\n",
       "      <th>3</th>\n",
       "      <td>0.823045</td>\n",
       "      <td>3.950834</td>\n",
       "    </tr>\n",
       "    <tr>\n",
       "      <th>0</th>\n",
       "      <td>0.205761</td>\n",
       "      <td>4.302019</td>\n",
       "    </tr>\n",
       "  </tbody>\n",
       "</table>\n",
       "</div>"
      ],
      "text/plain": [
       "         OBESOS  Não Obesos\n",
       "CAEC                       \n",
       "1     98.148148   71.202809\n",
       "2      0.823045   20.544337\n",
       "3      0.823045    3.950834\n",
       "0      0.205761    4.302019"
      ]
     },
     "metadata": {},
     "output_type": "display_data"
    },
    {
     "data": {
      "text/html": [
       "<div>\n",
       "<style scoped>\n",
       "    .dataframe tbody tr th:only-of-type {\n",
       "        vertical-align: middle;\n",
       "    }\n",
       "\n",
       "    .dataframe tbody tr th {\n",
       "        vertical-align: top;\n",
       "    }\n",
       "\n",
       "    .dataframe thead th {\n",
       "        text-align: right;\n",
       "    }\n",
       "</style>\n",
       "<table border=\"1\" class=\"dataframe\">\n",
       "  <thead>\n",
       "    <tr style=\"text-align: right;\">\n",
       "      <th></th>\n",
       "      <th>OBESOS</th>\n",
       "      <th>Não Obesos</th>\n",
       "    </tr>\n",
       "    <tr>\n",
       "      <th>SMOKE</th>\n",
       "      <th></th>\n",
       "      <th></th>\n",
       "    </tr>\n",
       "  </thead>\n",
       "  <tbody>\n",
       "    <tr>\n",
       "      <th>0</th>\n",
       "      <td>97.736626</td>\n",
       "      <td>98.068481</td>\n",
       "    </tr>\n",
       "    <tr>\n",
       "      <th>1</th>\n",
       "      <td>2.263374</td>\n",
       "      <td>1.931519</td>\n",
       "    </tr>\n",
       "  </tbody>\n",
       "</table>\n",
       "</div>"
      ],
      "text/plain": [
       "          OBESOS  Não Obesos\n",
       "SMOKE                       \n",
       "0      97.736626   98.068481\n",
       "1       2.263374    1.931519"
      ]
     },
     "metadata": {},
     "output_type": "display_data"
    },
    {
     "data": {
      "text/html": [
       "<div>\n",
       "<style scoped>\n",
       "    .dataframe tbody tr th:only-of-type {\n",
       "        vertical-align: middle;\n",
       "    }\n",
       "\n",
       "    .dataframe tbody tr th {\n",
       "        vertical-align: top;\n",
       "    }\n",
       "\n",
       "    .dataframe thead th {\n",
       "        text-align: right;\n",
       "    }\n",
       "</style>\n",
       "<table border=\"1\" class=\"dataframe\">\n",
       "  <thead>\n",
       "    <tr style=\"text-align: right;\">\n",
       "      <th></th>\n",
       "      <th>OBESOS</th>\n",
       "      <th>Não Obesos</th>\n",
       "    </tr>\n",
       "    <tr>\n",
       "      <th>CH2O</th>\n",
       "      <th></th>\n",
       "      <th></th>\n",
       "    </tr>\n",
       "  </thead>\n",
       "  <tbody>\n",
       "    <tr>\n",
       "      <th>2.000000</th>\n",
       "      <td>7.818930</td>\n",
       "      <td>32.660228</td>\n",
       "    </tr>\n",
       "    <tr>\n",
       "      <th>1.000000</th>\n",
       "      <td>5.864198</td>\n",
       "      <td>13.520632</td>\n",
       "    </tr>\n",
       "    <tr>\n",
       "      <th>3.000000</th>\n",
       "      <td>5.452675</td>\n",
       "      <td>9.569798</td>\n",
       "    </tr>\n",
       "    <tr>\n",
       "      <th>2.184707</th>\n",
       "      <td>0.205761</td>\n",
       "      <td>NaN</td>\n",
       "    </tr>\n",
       "    <tr>\n",
       "      <th>2.530035</th>\n",
       "      <td>0.205761</td>\n",
       "      <td>NaN</td>\n",
       "    </tr>\n",
       "  </tbody>\n",
       "</table>\n",
       "</div>"
      ],
      "text/plain": [
       "            OBESOS  Não Obesos\n",
       "CH2O                          \n",
       "2.000000  7.818930   32.660228\n",
       "1.000000  5.864198   13.520632\n",
       "3.000000  5.452675    9.569798\n",
       "2.184707  0.205761         NaN\n",
       "2.530035  0.205761         NaN"
      ]
     },
     "metadata": {},
     "output_type": "display_data"
    },
    {
     "data": {
      "text/html": [
       "<div>\n",
       "<style scoped>\n",
       "    .dataframe tbody tr th:only-of-type {\n",
       "        vertical-align: middle;\n",
       "    }\n",
       "\n",
       "    .dataframe tbody tr th {\n",
       "        vertical-align: top;\n",
       "    }\n",
       "\n",
       "    .dataframe thead th {\n",
       "        text-align: right;\n",
       "    }\n",
       "</style>\n",
       "<table border=\"1\" class=\"dataframe\">\n",
       "  <thead>\n",
       "    <tr style=\"text-align: right;\">\n",
       "      <th></th>\n",
       "      <th>OBESOS</th>\n",
       "      <th>Não Obesos</th>\n",
       "    </tr>\n",
       "    <tr>\n",
       "      <th>SCC</th>\n",
       "      <th></th>\n",
       "      <th></th>\n",
       "    </tr>\n",
       "  </thead>\n",
       "  <tbody>\n",
       "    <tr>\n",
       "      <th>0</th>\n",
       "      <td>99.691358</td>\n",
       "      <td>91.834943</td>\n",
       "    </tr>\n",
       "    <tr>\n",
       "      <th>1</th>\n",
       "      <td>0.308642</td>\n",
       "      <td>8.165057</td>\n",
       "    </tr>\n",
       "  </tbody>\n",
       "</table>\n",
       "</div>"
      ],
      "text/plain": [
       "        OBESOS  Não Obesos\n",
       "SCC                       \n",
       "0    99.691358   91.834943\n",
       "1     0.308642    8.165057"
      ]
     },
     "metadata": {},
     "output_type": "display_data"
    },
    {
     "data": {
      "text/html": [
       "<div>\n",
       "<style scoped>\n",
       "    .dataframe tbody tr th:only-of-type {\n",
       "        vertical-align: middle;\n",
       "    }\n",
       "\n",
       "    .dataframe tbody tr th {\n",
       "        vertical-align: top;\n",
       "    }\n",
       "\n",
       "    .dataframe thead th {\n",
       "        text-align: right;\n",
       "    }\n",
       "</style>\n",
       "<table border=\"1\" class=\"dataframe\">\n",
       "  <thead>\n",
       "    <tr style=\"text-align: right;\">\n",
       "      <th></th>\n",
       "      <th>OBESOS</th>\n",
       "      <th>Não Obesos</th>\n",
       "    </tr>\n",
       "    <tr>\n",
       "      <th>FAF</th>\n",
       "      <th></th>\n",
       "      <th></th>\n",
       "    </tr>\n",
       "  </thead>\n",
       "  <tbody>\n",
       "    <tr>\n",
       "      <th>0.000000</th>\n",
       "      <td>20.164609</td>\n",
       "      <td>18.876207</td>\n",
       "    </tr>\n",
       "    <tr>\n",
       "      <th>1.000000</th>\n",
       "      <td>4.218107</td>\n",
       "      <td>16.944688</td>\n",
       "    </tr>\n",
       "    <tr>\n",
       "      <th>2.000000</th>\n",
       "      <td>1.851852</td>\n",
       "      <td>14.486392</td>\n",
       "    </tr>\n",
       "    <tr>\n",
       "      <th>3.000000</th>\n",
       "      <td>1.337449</td>\n",
       "      <td>5.443371</td>\n",
       "    </tr>\n",
       "    <tr>\n",
       "      <th>1.399183</th>\n",
       "      <td>0.205761</td>\n",
       "      <td>NaN</td>\n",
       "    </tr>\n",
       "  </tbody>\n",
       "</table>\n",
       "</div>"
      ],
      "text/plain": [
       "             OBESOS  Não Obesos\n",
       "FAF                            \n",
       "0.000000  20.164609   18.876207\n",
       "1.000000   4.218107   16.944688\n",
       "2.000000   1.851852   14.486392\n",
       "3.000000   1.337449    5.443371\n",
       "1.399183   0.205761         NaN"
      ]
     },
     "metadata": {},
     "output_type": "display_data"
    },
    {
     "data": {
      "text/html": [
       "<div>\n",
       "<style scoped>\n",
       "    .dataframe tbody tr th:only-of-type {\n",
       "        vertical-align: middle;\n",
       "    }\n",
       "\n",
       "    .dataframe tbody tr th {\n",
       "        vertical-align: top;\n",
       "    }\n",
       "\n",
       "    .dataframe thead th {\n",
       "        text-align: right;\n",
       "    }\n",
       "</style>\n",
       "<table border=\"1\" class=\"dataframe\">\n",
       "  <thead>\n",
       "    <tr style=\"text-align: right;\">\n",
       "      <th></th>\n",
       "      <th>OBESOS</th>\n",
       "      <th>Não Obesos</th>\n",
       "    </tr>\n",
       "    <tr>\n",
       "      <th>TUE</th>\n",
       "      <th></th>\n",
       "      <th></th>\n",
       "    </tr>\n",
       "  </thead>\n",
       "  <tbody>\n",
       "    <tr>\n",
       "      <th>0.000000</th>\n",
       "      <td>20.987654</td>\n",
       "      <td>30.992098</td>\n",
       "    </tr>\n",
       "    <tr>\n",
       "      <th>1.000000</th>\n",
       "      <td>4.835391</td>\n",
       "      <td>21.510097</td>\n",
       "    </tr>\n",
       "    <tr>\n",
       "      <th>2.000000</th>\n",
       "      <td>2.777778</td>\n",
       "      <td>7.199298</td>\n",
       "    </tr>\n",
       "    <tr>\n",
       "      <th>0.002600</th>\n",
       "      <td>0.308642</td>\n",
       "      <td>NaN</td>\n",
       "    </tr>\n",
       "    <tr>\n",
       "      <th>0.630866</th>\n",
       "      <td>0.308642</td>\n",
       "      <td>0.087796</td>\n",
       "    </tr>\n",
       "  </tbody>\n",
       "</table>\n",
       "</div>"
      ],
      "text/plain": [
       "             OBESOS  Não Obesos\n",
       "TUE                            \n",
       "0.000000  20.987654   30.992098\n",
       "1.000000   4.835391   21.510097\n",
       "2.000000   2.777778    7.199298\n",
       "0.002600   0.308642         NaN\n",
       "0.630866   0.308642    0.087796"
      ]
     },
     "metadata": {},
     "output_type": "display_data"
    },
    {
     "data": {
      "text/html": [
       "<div>\n",
       "<style scoped>\n",
       "    .dataframe tbody tr th:only-of-type {\n",
       "        vertical-align: middle;\n",
       "    }\n",
       "\n",
       "    .dataframe tbody tr th {\n",
       "        vertical-align: top;\n",
       "    }\n",
       "\n",
       "    .dataframe thead th {\n",
       "        text-align: right;\n",
       "    }\n",
       "</style>\n",
       "<table border=\"1\" class=\"dataframe\">\n",
       "  <thead>\n",
       "    <tr style=\"text-align: right;\">\n",
       "      <th></th>\n",
       "      <th>OBESOS</th>\n",
       "      <th>Não Obesos</th>\n",
       "    </tr>\n",
       "    <tr>\n",
       "      <th>CALC</th>\n",
       "      <th></th>\n",
       "      <th></th>\n",
       "    </tr>\n",
       "  </thead>\n",
       "  <tbody>\n",
       "    <tr>\n",
       "      <th>1</th>\n",
       "      <td>73.971193</td>\n",
       "      <td>59.877085</td>\n",
       "    </tr>\n",
       "    <tr>\n",
       "      <th>0</th>\n",
       "      <td>24.382716</td>\n",
       "      <td>35.294118</td>\n",
       "    </tr>\n",
       "    <tr>\n",
       "      <th>2</th>\n",
       "      <td>1.646091</td>\n",
       "      <td>4.741001</td>\n",
       "    </tr>\n",
       "    <tr>\n",
       "      <th>3</th>\n",
       "      <td>NaN</td>\n",
       "      <td>0.087796</td>\n",
       "    </tr>\n",
       "  </tbody>\n",
       "</table>\n",
       "</div>"
      ],
      "text/plain": [
       "         OBESOS  Não Obesos\n",
       "CALC                       \n",
       "1     73.971193   59.877085\n",
       "0     24.382716   35.294118\n",
       "2      1.646091    4.741001\n",
       "3           NaN    0.087796"
      ]
     },
     "metadata": {},
     "output_type": "display_data"
    },
    {
     "data": {
      "text/html": [
       "<div>\n",
       "<style scoped>\n",
       "    .dataframe tbody tr th:only-of-type {\n",
       "        vertical-align: middle;\n",
       "    }\n",
       "\n",
       "    .dataframe tbody tr th {\n",
       "        vertical-align: top;\n",
       "    }\n",
       "\n",
       "    .dataframe thead th {\n",
       "        text-align: right;\n",
       "    }\n",
       "</style>\n",
       "<table border=\"1\" class=\"dataframe\">\n",
       "  <thead>\n",
       "    <tr style=\"text-align: right;\">\n",
       "      <th></th>\n",
       "      <th>OBESOS</th>\n",
       "      <th>Não Obesos</th>\n",
       "    </tr>\n",
       "    <tr>\n",
       "      <th>Automobile</th>\n",
       "      <th></th>\n",
       "      <th></th>\n",
       "    </tr>\n",
       "  </thead>\n",
       "  <tbody>\n",
       "    <tr>\n",
       "      <th>0</th>\n",
       "      <td>78.806584</td>\n",
       "      <td>77.963126</td>\n",
       "    </tr>\n",
       "    <tr>\n",
       "      <th>1</th>\n",
       "      <td>21.193416</td>\n",
       "      <td>22.036874</td>\n",
       "    </tr>\n",
       "  </tbody>\n",
       "</table>\n",
       "</div>"
      ],
      "text/plain": [
       "               OBESOS  Não Obesos\n",
       "Automobile                       \n",
       "0           78.806584   77.963126\n",
       "1           21.193416   22.036874"
      ]
     },
     "metadata": {},
     "output_type": "display_data"
    },
    {
     "data": {
      "text/html": [
       "<div>\n",
       "<style scoped>\n",
       "    .dataframe tbody tr th:only-of-type {\n",
       "        vertical-align: middle;\n",
       "    }\n",
       "\n",
       "    .dataframe tbody tr th {\n",
       "        vertical-align: top;\n",
       "    }\n",
       "\n",
       "    .dataframe thead th {\n",
       "        text-align: right;\n",
       "    }\n",
       "</style>\n",
       "<table border=\"1\" class=\"dataframe\">\n",
       "  <thead>\n",
       "    <tr style=\"text-align: right;\">\n",
       "      <th></th>\n",
       "      <th>OBESOS</th>\n",
       "      <th>Não Obesos</th>\n",
       "    </tr>\n",
       "    <tr>\n",
       "      <th>Bike</th>\n",
       "      <th></th>\n",
       "      <th></th>\n",
       "    </tr>\n",
       "  </thead>\n",
       "  <tbody>\n",
       "    <tr>\n",
       "      <th>0</th>\n",
       "      <td>99.897119</td>\n",
       "      <td>99.473222</td>\n",
       "    </tr>\n",
       "    <tr>\n",
       "      <th>1</th>\n",
       "      <td>0.102881</td>\n",
       "      <td>0.526778</td>\n",
       "    </tr>\n",
       "  </tbody>\n",
       "</table>\n",
       "</div>"
      ],
      "text/plain": [
       "         OBESOS  Não Obesos\n",
       "Bike                       \n",
       "0     99.897119   99.473222\n",
       "1      0.102881    0.526778"
      ]
     },
     "metadata": {},
     "output_type": "display_data"
    },
    {
     "data": {
      "text/html": [
       "<div>\n",
       "<style scoped>\n",
       "    .dataframe tbody tr th:only-of-type {\n",
       "        vertical-align: middle;\n",
       "    }\n",
       "\n",
       "    .dataframe tbody tr th {\n",
       "        vertical-align: top;\n",
       "    }\n",
       "\n",
       "    .dataframe thead th {\n",
       "        text-align: right;\n",
       "    }\n",
       "</style>\n",
       "<table border=\"1\" class=\"dataframe\">\n",
       "  <thead>\n",
       "    <tr style=\"text-align: right;\">\n",
       "      <th></th>\n",
       "      <th>OBESOS</th>\n",
       "      <th>Não Obesos</th>\n",
       "    </tr>\n",
       "    <tr>\n",
       "      <th>Motorbike</th>\n",
       "      <th></th>\n",
       "      <th></th>\n",
       "    </tr>\n",
       "  </thead>\n",
       "  <tbody>\n",
       "    <tr>\n",
       "      <th>0</th>\n",
       "      <td>99.691358</td>\n",
       "      <td>99.297629</td>\n",
       "    </tr>\n",
       "    <tr>\n",
       "      <th>1</th>\n",
       "      <td>0.308642</td>\n",
       "      <td>0.702371</td>\n",
       "    </tr>\n",
       "  </tbody>\n",
       "</table>\n",
       "</div>"
      ],
      "text/plain": [
       "              OBESOS  Não Obesos\n",
       "Motorbike                       \n",
       "0          99.691358   99.297629\n",
       "1           0.308642    0.702371"
      ]
     },
     "metadata": {},
     "output_type": "display_data"
    },
    {
     "data": {
      "text/html": [
       "<div>\n",
       "<style scoped>\n",
       "    .dataframe tbody tr th:only-of-type {\n",
       "        vertical-align: middle;\n",
       "    }\n",
       "\n",
       "    .dataframe tbody tr th {\n",
       "        vertical-align: top;\n",
       "    }\n",
       "\n",
       "    .dataframe thead th {\n",
       "        text-align: right;\n",
       "    }\n",
       "</style>\n",
       "<table border=\"1\" class=\"dataframe\">\n",
       "  <thead>\n",
       "    <tr style=\"text-align: right;\">\n",
       "      <th></th>\n",
       "      <th>OBESOS</th>\n",
       "      <th>Não Obesos</th>\n",
       "    </tr>\n",
       "    <tr>\n",
       "      <th>Public_Transportation</th>\n",
       "      <th></th>\n",
       "      <th></th>\n",
       "    </tr>\n",
       "  </thead>\n",
       "  <tbody>\n",
       "    <tr>\n",
       "      <th>1</th>\n",
       "      <td>78.08642</td>\n",
       "      <td>72.080773</td>\n",
       "    </tr>\n",
       "    <tr>\n",
       "      <th>0</th>\n",
       "      <td>21.91358</td>\n",
       "      <td>27.919227</td>\n",
       "    </tr>\n",
       "  </tbody>\n",
       "</table>\n",
       "</div>"
      ],
      "text/plain": [
       "                         OBESOS  Não Obesos\n",
       "Public_Transportation                      \n",
       "1                      78.08642   72.080773\n",
       "0                      21.91358   27.919227"
      ]
     },
     "metadata": {},
     "output_type": "display_data"
    },
    {
     "data": {
      "text/html": [
       "<div>\n",
       "<style scoped>\n",
       "    .dataframe tbody tr th:only-of-type {\n",
       "        vertical-align: middle;\n",
       "    }\n",
       "\n",
       "    .dataframe tbody tr th {\n",
       "        vertical-align: top;\n",
       "    }\n",
       "\n",
       "    .dataframe thead th {\n",
       "        text-align: right;\n",
       "    }\n",
       "</style>\n",
       "<table border=\"1\" class=\"dataframe\">\n",
       "  <thead>\n",
       "    <tr style=\"text-align: right;\">\n",
       "      <th></th>\n",
       "      <th>OBESOS</th>\n",
       "      <th>Não Obesos</th>\n",
       "    </tr>\n",
       "    <tr>\n",
       "      <th>Walking</th>\n",
       "      <th></th>\n",
       "      <th></th>\n",
       "    </tr>\n",
       "  </thead>\n",
       "  <tbody>\n",
       "    <tr>\n",
       "      <th>0</th>\n",
       "      <td>99.691358</td>\n",
       "      <td>95.346795</td>\n",
       "    </tr>\n",
       "    <tr>\n",
       "      <th>1</th>\n",
       "      <td>0.308642</td>\n",
       "      <td>4.653205</td>\n",
       "    </tr>\n",
       "  </tbody>\n",
       "</table>\n",
       "</div>"
      ],
      "text/plain": [
       "            OBESOS  Não Obesos\n",
       "Walking                       \n",
       "0        99.691358   95.346795\n",
       "1         0.308642    4.653205"
      ]
     },
     "metadata": {},
     "output_type": "display_data"
    }
   ],
   "source": [
    "final = list()\n",
    "\n",
    "for x in range(len(resultado1)):\n",
    "    final.append(pd.concat([resultado1[x],resultado2[x]],axis = 1))\n",
    "\n",
    "final.pop()\n",
    "\n",
    "for x in final:\n",
    "    display(x.head())"
   ]
  },
  {
   "cell_type": "markdown",
   "metadata": {},
   "source": [
    "#"
   ]
  },
  {
   "cell_type": "markdown",
   "metadata": {},
   "source": [
    "#"
   ]
  },
  {
   "cell_type": "markdown",
   "metadata": {},
   "source": [
    "### Gráficos"
   ]
  },
  {
   "cell_type": "code",
   "execution_count": 212,
   "metadata": {},
   "outputs": [],
   "source": [
    "import matplotlib.pyplot as plt\n",
    "import numpy as np"
   ]
  },
  {
   "cell_type": "markdown",
   "metadata": {},
   "source": [
    "#"
   ]
  },
  {
   "cell_type": "markdown",
   "metadata": {},
   "source": [
    "#### Idade"
   ]
  },
  {
   "cell_type": "code",
   "execution_count": 213,
   "metadata": {},
   "outputs": [
    {
     "data": {
      "image/png": "[encoded data removed]",
      "text/plain": [
       "<Figure size 700x500 with 1 Axes>"
      ]
     },
     "metadata": {},
     "output_type": "display_data"
    }
   ],
   "source": [
    "plt.figure(figsize=(7,5))\n",
    "\n",
    "plt.ylabel('%')\n",
    "plt.title('Idade das pessoas obesas')\n",
    "\n",
    "Pessoas_Obesas = plt.bar(np.array(final[1]['OBESOS'].index),final[1]['OBESOS'].values,width=0.4)\n"
   ]
  },
  {
   "cell_type": "code",
   "execution_count": 214,
   "metadata": {},
   "outputs": [
    {
     "data": {
      "image/png": "[encoded data removed]",
      "text/plain": [
       "<Figure size 900x500 with 1 Axes>"
      ]
     },
     "metadata": {},
     "output_type": "display_data"
    }
   ],
   "source": [
    "plt.figure(figsize=(9,5))\n",
    "plt.ylabel('%')\n",
    "plt.title('Idade das pessoas não obesas')\n",
    "\n",
    "Pessoas_Nao_Obesas = plt.bar(np.array(final[1]['Não Obesos'].index),final[1]['Não Obesos'].values,width=0.4)"
   ]
  },
  {
   "cell_type": "markdown",
   "metadata": {},
   "source": [
    "#### Histórico Familiar"
   ]
  },
  {
   "cell_type": "code",
   "execution_count": 223,
   "metadata": {},
   "outputs": [
    {
     "data": {
      "image/png": "[encoded data removed]",
      "text/plain": [
       "<Figure size 640x480 with 1 Axes>"
      ]
     },
     "metadata": {},
     "output_type": "display_data"
    }
   ],
   "source": [
    "plt.title('Não Obesos')\n",
    "Nao_obesos = plt.pie(final[2]['Não Obesos'], labels = ['Tem Histórico', 'Não tem'])"
   ]
  },
  {
   "cell_type": "code",
   "execution_count": 224,
   "metadata": {},
   "outputs": [
    {
     "data": {
      "image/png": "[encoded data removed]",
      "text/plain": [
       "<Figure size 640x480 with 1 Axes>"
      ]
     },
     "metadata": {},
     "output_type": "display_data"
    }
   ],
   "source": [
    "plt.title('OBESOS')\n",
    "Obesos = plt.pie(final[2]['OBESOS'], labels = ['Tem Histórico', 'Não tem'])"
   ]
  },
  {
   "cell_type": "code",
   "execution_count": null,
   "metadata": {},
   "outputs": [],
   "source": []
  }
 ],
 "metadata": {
  "kernelspec": {
   "display_name": "Python 3",
   "language": "python",
   "name": "python3"
  },
  "language_info": {
   "codemirror_mode": {
    "name": "ipython",
    "version": 3
   },
   "file_extension": ".py",
   "mimetype": "text/x-python",
   "name": "python",
   "nbconvert_exporter": "python",
   "pygments_lexer": "ipython3",
   "version": "3.10.12"
  }
 },
 "nbformat": 4,
 "nbformat_minor": 2
}
